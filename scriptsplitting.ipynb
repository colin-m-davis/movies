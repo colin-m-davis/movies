{
 "cells": [
  {
   "cell_type": "markdown",
   "metadata": {},
   "source": [
    "## Splitting the Scripts\n",
    "Our first objective is to make a script that will take in a movie script text file and parse it into a dictionary where each unique speaker are the keys and the values are all of the lines they spoke throughout the script. To start simple, I pulled the Megamind script from https://imsdb.com/scripts/Megamind.html and pasted it into a text file."
   ]
  },
  {
   "cell_type": "code",
   "execution_count": 1,
   "metadata": {},
   "outputs": [
    {
     "name": "stdout",
     "output_type": "stream",
     "text": [
      "\n",
      "MEGAMIND\n",
      "\n",
      "\n",
      "\n",
      "Written by\n",
      "\n",
      "Alan Schoolcraft & Brent Simons\n",
      "\n",
      "\n",
      "\n",
      "\n",
      "CREDITS SEQUENCE\n",
      "\n",
      "NEWSPAPER HEADLINE MOas he shoots off\n",
      "into the distance like a speeding bullet.\n",
      "\n",
      "EXT. OBSERVATORY HIDEOUT - ESTABLISHING \n"
     ]
    }
   ],
   "source": [
    "import re\n",
    "import os\n",
    "cdir = os.path.abspath('')\n",
    "script_file = open(os.path.join(cdir, 'megamind.txt'), 'r')\n",
    "script = script_file.read()\n",
    "script_file.close()\n",
    "print(script[0:100] + script[2000:2100]) # making sure it imported right"
   ]
  },
  {
   "cell_type": "markdown",
   "metadata": {},
   "source": [
    "### Splitting by Paragraph\n",
    "Now that the script is imported correctly, our next step is to split the paragraphs up. We can do this by using regular expressions. _(source: https://stackoverflow.com/questions/57273215/how-to-parse-movie-script-in-a-dictionary)_"
   ]
  },
  {
   "cell_type": "code",
   "execution_count": 2,
   "metadata": {},
   "outputs": [
    {
     "data": {
      "text/plain": [
       "\"MASTER MIND\\nAlright, let's not keep the lady\\nwaiting.\""
      ]
     },
     "execution_count": 2,
     "metadata": {},
     "output_type": "execute_result"
    }
   ],
   "source": [
    "pars = re.split(r'\\n\\n+', script, maxsplit=0)\n",
    "pars[50] # verifying the paragraphs split"
   ]
  },
  {
   "cell_type": "markdown",
   "metadata": {},
   "source": [
    "### Creating a Character: \\[Lines\\] Dictionary\n",
    "Now that we have our script split up by paragraph, we can use regular expressions to figure out where the characters' names and lines are. Looking at the script file, we can see that the names are in all caps on their own line, with their lines beginning in the following line. The following code is modified from the same source as above."
   ]
  },
  {
   "cell_type": "code",
   "execution_count": 3,
   "metadata": {},
   "outputs": [],
   "source": [
    "d = {} # initializes an empty dictionary to pass the names and lines into\n",
    "\n",
    "for p in pars:\n",
    "    # Capture the name (anchored to the beginning of line and all capitals)\n",
    "    # and the rest of the paragraph - (.*)\n",
    "    regex = re.search(r'^([A-Z]+ [A-Z]+|[A-Z]+)(.*)', p, re.S + re.M)\n",
    "\n",
    "    if not regex:  # Avoid calling group() on null results\n",
    "        continue\n",
    "\n",
    "    name, txt = regex.group(1, 2) \n",
    "\n",
    "    # Each sentence as a list item\n",
    "    if name in d:\n",
    "        d[name] += txt.strip().split('\\n')\n",
    "    else:\n",
    "        d[name] = txt.strip().split('\\n')\n"
   ]
  },
  {
   "cell_type": "markdown",
   "metadata": {},
   "source": [
    "#### Regular Expression Breakdown\n",
    "The area of interest in this code involves the regular expression used to capture the name and lines. You can skip this part if you are already familiar with regular expressions or if you don't plan on using them.\n",
    "\n",
    "`regex = re.search(r'^([A-Z]+ [A-Z]+|[A-Z]+)(.*)', p, re.S + re.M)`\n",
    "\n",
    "We can break down the components of this search: \n",
    "* First, there's the r that precedes the string expression, which simply tells the function to interpret the expression as raw (so certain special characters don't get mixed up).\n",
    "* Notice that within the quotations (`''`) there are two parenthetical groups: `([A-Z]+ [A-Z]+|[A-Z]+)` and `(.*)`. The first group captures the name and the second captures everything else. This allows us to later split these into the keys and values of the dictionary.\n",
    "* The part `^([A-Z]+ [A-Z]+` searches for a string of characters that starts with a string of capital letters of any length (`[A-Z]+`), a space character, and another string of capital letters of any length (`[A-Z]+`). The character `^` means \"starts with\". \n",
    "* The character `|` means either/or, so `^([A-Z]+ [A-Z]+|[A-Z]+)` all together means \"starts with two words in all caps or starts with one word in all caps\". \n",
    "* Finally the `(.*)` can be interpreted as \"any character (`.`) of any length (`*`)\". Normally, this doesn't include newlines and will stop once it hits a newline, but the argument `re.S` passed in the function makes it so that it includes newlines as part of \"any character\". Since the script is already split by paragraph, it will just capture everything in the paragraph chunk after the name.\n"
   ]
  },
  {
   "cell_type": "markdown",
   "metadata": {},
   "source": [
    "Now, we'll look at the dictionary produced by the code and see what we need to adjust accordingly."
   ]
  },
  {
   "cell_type": "code",
   "execution_count": 4,
   "metadata": {},
   "outputs": [
    {
     "name": "stdout",
     "output_type": "stream",
     "text": [
      "dict_keys(['MEGAMIND', 'W', 'A', 'CREDITS SEQUENCE', 'NEWSPAPER HEADLINE', 'HEADLINES', 'PHOTO', 'T', 'END OF', 'EXT', 'WE PULL', 'H', 'Y', 'UBERMAN', 'U', 'G', 'INT', 'A STEEL', 'M', 'EINSTEIN', 'PLATO', 'E', 'D', 'MASTER MIND', 'DA VINCI', 'MOMENTS LATER', 'S', 'ROXANNE', 'R', 'CUT TO', 'A MECHANIZED', 'F', 'O', 'N', 'CRIME WAVE', 'SPINNING HEADLINE', 'ARMORED TRUCK', 'I', 'METRO CITY', 'A VICIOUS', 'HAL STEWART', 'HAL', 'ATTRACTIVE BLOND', 'VINNIE', 'V', 'TELEVISION', 'A WOMAN', 'WOMAN', 'BACK TO', 'TWO BRUISERS', 'P', 'FRANK', 'A SECRETARY', 'LIGHTENING FLASHES', 'REPORTER ON', 'TELEVISION NARRATOR', 'FRIEND', 'A WAITER', 'A YOUNG', 'ACROSS THE', 'POLITICIAN', 'YOUNG MOTHER', 'CRANE', 'HAL AND', 'REPORTER', 'J', 'L', 'C', 'NO', 'SEVERS', 'BOOM', 'STENWICK', 'MINUTES LATER', 'NEWS REPORTER', 'BLIND KID', 'ATTRACTIVE', 'TRUCKER', 'ATTRACTIVE WOMAN', 'BRAD HELMS', 'CUT BACK', 'A LIGHTENING', 'CAT', 'BATHROOM', 'ZOOM', 'HONK', 'VOICE', 'LATER', 'TITAN', 'JOHN', 'GEORGE', 'BANK MANAGER', 'CRASH', 'PAUL', 'SETH', 'ON TELEVISION', 'B', 'LIKE A', 'A HOODLUM', 'SHOPKEEPER', 'SHOTGUN HOODLUM', 'A PRETTY', 'PLATO ACCIDENTALLY', 'STILL LATER', 'A SECURITY', 'SECURITY GUARD', 'TITAN BEING', 'BARTENDER', 'ELDERLY WOMAN', 'A BONGING', 'SCREEN', 'DOMINATRIX IN', 'FAT MAN', 'WAYNE SCOTT', 'EXT OBSERVATORY', 'WAYNE', 'A TANK', 'PLAZA', 'FEEDBACK', 'TANK LOUDSPEAKER', 'INTERCUT', 'PLATO AND', 'GIANT BOWLING', 'MASTER', 'ELSEWHERE', 'AS T', 'BYSTANDER', 'SAMANTHA SUMMERS', 'MAYOR', 'WE CUT', 'PRISON SCIENTIST', 'DARK ALLEY', 'THUG', 'THE END'])\n"
     ]
    }
   ],
   "source": [
    "print(d.keys())"
   ]
  },
  {
   "cell_type": "markdown",
   "metadata": {},
   "source": [
    "As we can see, the code has created a dictionary with keys as different characters. Looking at the list of all the keys, we can see there are some stage directions/scene settings that were misattributed as names. This is fine for now, but we want to make sure that the main characters of the movie and their lines have been captured successfully. "
   ]
  },
  {
   "cell_type": "code",
   "execution_count": 5,
   "metadata": {},
   "outputs": [
    {
     "name": "stdout",
     "output_type": "stream",
     "text": [
      "['The real Einstein once said, \"God', 'does not play dice with the world.\"', 'He was right, because the world is', 'MY dice. Is that understood?', 'Alright, then - clean slate. Do we']\n",
      "[\"You didn't need to turn around like\", 'that. I can recognize the stench of', 'failure.', 'Looks like a real group of winners.', \"At the risk of sounding cliche',\"]\n"
     ]
    }
   ],
   "source": [
    "print(d['MASTER MIND'][0:5])\n",
    "print(d['ROXANNE'][0:5])"
   ]
  },
  {
   "cell_type": "markdown",
   "metadata": {},
   "source": [
    "The code has successfully created the dictionary we want. Looking at the output, we can see that each item in the list is a line spoken by the character. However, they aren't clean, clear-cut sentences. This is a result of the function having split the lines by newline and then stripping them of white space. This is fine since we need to combine them into one big \"mega string\" anyway. We need to keep in mind, however, that we need to insert a space character between each string when we do merge all of them together."
   ]
  },
  {
   "cell_type": "markdown",
   "metadata": {},
   "source": [
    "### Creating a Universal Function\n",
    "Now that we've successfully split up one script, we need to apply the same process to split up more scripts. To do this, we'll create a function that takes in a movie script string as input and outputs a dictionary with the characters as keys and a list of all their lines as values. \n",
    "\n",
    "`scriptsplit(moviescript)`\n",
    "\n",
    "`output: {'Mary': ['Hey Joe, where did you put', 'my rain boots?', 'Thanks.'], 'Joe': ['They should be in the garage.', 'You're welcome.']}`"
   ]
  },
  {
   "cell_type": "markdown",
   "metadata": {},
   "source": [
    "We'll have to make sure that the scripts we choose have the same/similar enough format so that the function will work properly. We'll put the scripts we want to use in one folder. We'll probably also want to make a simple function that reads in the file so we don't have to write it every time."
   ]
  }
 ],
 "metadata": {
  "interpreter": {
   "hash": "aee8b7b246df8f9039afb4144a1f6fd8d2ca17a180786b69acc140d282b71a49"
  },
  "kernelspec": {
   "display_name": "Python 3.9.0 64-bit",
   "language": "python",
   "name": "python3"
  },
  "language_info": {
   "codemirror_mode": {
    "name": "ipython",
    "version": 3
   },
   "file_extension": ".py",
   "mimetype": "text/x-python",
   "name": "python",
   "nbconvert_exporter": "python",
   "pygments_lexer": "ipython3",
   "version": "3.9.0"
  },
  "orig_nbformat": 4
 },
 "nbformat": 4,
 "nbformat_minor": 2
}
